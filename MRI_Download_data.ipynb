{
 "cells": [
  {
   "cell_type": "code",
   "execution_count": 1,
   "id": "5e0202be-8187-41db-babc-0eadeeecccc0",
   "metadata": {},
   "outputs": [],
   "source": [
    "import pandas as pd\n",
    "import numpy as np "
   ]
  },
  {
   "cell_type": "code",
   "execution_count": 3,
   "id": "4b764307-b288-4b12-902e-8aff2ba99edb",
   "metadata": {},
   "outputs": [
    {
     "name": "stdout",
     "output_type": "stream",
     "text": [
      "Requirement already satisfied: openpyxl in c:\\users\\12345654321\\anaconda3\\lib\\site-packages (3.1.2)\n",
      "Requirement already satisfied: et-xmlfile in c:\\users\\12345654321\\anaconda3\\lib\\site-packages (from openpyxl) (1.1.0)\n"
     ]
    }
   ],
   "source": [
    "!pip install openpyxl"
   ]
  },
  {
   "cell_type": "markdown",
   "id": "007fa4fe-f113-4e7e-a62e-8efda0e3a4c1",
   "metadata": {},
   "source": [
    "Здесь пишете путь, где сохранен excel файл с описанием данных (скачать его можно здесь: https://disk.yandex.ru/i/RTgCJgZOtPo2aA)"
   ]
  },
  {
   "cell_type": "code",
   "execution_count": 5,
   "id": "808700eb-b418-4368-9393-c550917720e5",
   "metadata": {},
   "outputs": [],
   "source": [
    "df = pd.read_excel(r'C:\\Users\\12345654321\\Desktop\\Учеба ВИШ\\НИР\\База данных МРТ гипофиза.xlsx')"
   ]
  },
  {
   "cell_type": "code",
   "execution_count": 7,
   "id": "08f15f2a-97cf-4fd9-8d43-5e27ea7370a4",
   "metadata": {},
   "outputs": [
    {
     "data": {
      "text/plain": [
       "Файл с разметкой Ax T1+C\n",
       "False    300\n",
       "Name: count, dtype: int64"
      ]
     },
     "execution_count": 7,
     "metadata": {},
     "output_type": "execute_result"
    }
   ],
   "source": [
    "df['Файл с разметкой Ax T1+C'].isna().value_counts()"
   ]
  },
  {
   "cell_type": "markdown",
   "id": "a4df6da6-a8b6-478b-8e73-ec26463ea08f",
   "metadata": {},
   "source": [
    "В data_dir пишете название папки, куда будут сохранятся данные и запускайте скрипт. Загружаться будет приблизительно час."
   ]
  },
  {
   "cell_type": "code",
   "execution_count": 9,
   "id": "a86ca238-e004-448c-9a19-420abe895eb3",
   "metadata": {},
   "outputs": [],
   "source": [
    "import os\n",
    "import pandas as pd\n",
    "import requests\n",
    "import zipfile\n",
    "import shutil\n",
    "from urllib.parse import urlencode\n",
    "#Assuming your dataframe is df\n",
    "\n",
    "\n",
    "# Создание папки если она не существует\n",
    "data_dir = 'data_pituitary_18_01_25'\n",
    "os.makedirs(data_dir, exist_ok=True)\n",
    "\n",
    "# Обход DataFrame\n",
    "for index, row in df.iterrows():\n",
    "    patient_id = row['ID пациента'] \n",
    "    patient_dir = f'{data_dir}/ID_{patient_id}' # путь к директории пациента\n",
    "\n",
    "    # Создание папки для пациента, если она не существует\n",
    "    os.makedirs(patient_dir, exist_ok=True)\n",
    "\n",
    "\n",
    "    base_url = 'https://cloud-api.yandex.net/v1/disk/public/resources/download?'\n",
    "    public_key = row['Местоположение файлов']  # Сюда вписываете вашу ссылку\n",
    "\n",
    "    # Получаем загрузочную ссылку\n",
    "    final_url = base_url + urlencode(dict(public_key=public_key))\n",
    "    # Скачивание и разархивирование файла Если это прямые ссылки на zip файлы\n",
    "    # response = requests.get(final_url, stream=True)\n",
    "    response = requests.get(final_url)\n",
    "    download_url = response.json()['href']\n",
    "    zip_file_path = os.path.join(patient_dir, 'temp.zip') # Путь к временному zip файлу\n",
    "    download_response = requests.get(download_url)\n",
    "\n",
    "    # Сохранение zip файла\n",
    "    with open(zip_file_path, 'wb') as fd:\n",
    "        fd.write(download_response.content)\n",
    "\n",
    "    # Разархивация файла\n",
    "    with zipfile.ZipFile(zip_file_path, 'r') as zip_ref:\n",
    "        zip_ref.extractall(patient_dir)\n",
    "\n",
    "    # Удаление временного zip файла\n",
    "    os.remove(zip_file_path)\n",
    "    \n",
    "    # # Создание файла с метками класса\n",
    "    with open(os.path.join(patient_dir, 'labels.txt'), 'w', encoding='utf-8') as f:\n",
    "        f.write(f'Категория Knosp слева (S): {row[\"Категория Knosp слева (S)\"]}\\n')\n",
    "        f.write(f'Категория Knosp справа (D): {row[\"Категория Knosp справа (D)\"]}\\n')"
   ]
  },
  {
   "cell_type": "code",
   "execution_count": null,
   "id": "9d5a20b0-ebf1-4f06-a2ac-2f85d624a81a",
   "metadata": {},
   "outputs": [],
   "source": []
  }
 ],
 "metadata": {
  "kernelspec": {
   "display_name": "Python 3 (ipykernel)",
   "language": "python",
   "name": "python3"
  },
  "language_info": {
   "codemirror_mode": {
    "name": "ipython",
    "version": 3
   },
   "file_extension": ".py",
   "mimetype": "text/x-python",
   "name": "python",
   "nbconvert_exporter": "python",
   "pygments_lexer": "ipython3",
   "version": "3.12.4"
  }
 },
 "nbformat": 4,
 "nbformat_minor": 5
}
